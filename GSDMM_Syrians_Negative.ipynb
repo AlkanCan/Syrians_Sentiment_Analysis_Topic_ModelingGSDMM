{
 "cells": [
  {
   "cell_type": "code",
   "execution_count": 1,
   "id": "b16d1449",
   "metadata": {},
   "outputs": [],
   "source": [
    "import numpy as np \n",
    "import pandas as pd\n",
    "\n",
    "from gsdmm import MovieGroupProcess\n",
    "\n",
    "from gensim.models.coherencemodel import CoherenceModel\n",
    "from gensim import corpora, models\n",
    "from gensim.utils import simple_preprocess\n",
    "import gensim\n",
    "from gensim.models.ldamulticore import LdaMulticore\n",
    "import re\n",
    "from gensim.models import Phrases\n",
    "from gensim.models.phrases import Phraser"
   ]
  },
  {
   "cell_type": "code",
   "execution_count": 2,
   "id": "4e1770e4",
   "metadata": {},
   "outputs": [],
   "source": [
    "df=pd.read_csv(\"predictedsentiment_syrians_logistic.csv\")"
   ]
  },
  {
   "cell_type": "code",
   "execution_count": 3,
   "id": "66cf9c5e",
   "metadata": {},
   "outputs": [
    {
     "data": {
      "text/html": [
       "<div>\n",
       "<style scoped>\n",
       "    .dataframe tbody tr th:only-of-type {\n",
       "        vertical-align: middle;\n",
       "    }\n",
       "\n",
       "    .dataframe tbody tr th {\n",
       "        vertical-align: top;\n",
       "    }\n",
       "\n",
       "    .dataframe thead th {\n",
       "        text-align: right;\n",
       "    }\n",
       "</style>\n",
       "<table border=\"1\" class=\"dataframe\">\n",
       "  <thead>\n",
       "    <tr style=\"text-align: right;\">\n",
       "      <th></th>\n",
       "      <th>Unnamed: 0</th>\n",
       "      <th>Tweet</th>\n",
       "      <th>PredictedSentiment</th>\n",
       "    </tr>\n",
       "  </thead>\n",
       "  <tbody>\n",
       "    <tr>\n",
       "      <th>0</th>\n",
       "      <td>0</td>\n",
       "      <td>suriye türkiye sosyal demogratifyapısınıbozmuş...</td>\n",
       "      <td>Negative</td>\n",
       "    </tr>\n",
       "    <tr>\n",
       "      <th>1</th>\n",
       "      <td>1</td>\n",
       "      <td>devlet suriye güven bölge aşama ilerlemek yapm...</td>\n",
       "      <td>Neutral</td>\n",
       "    </tr>\n",
       "    <tr>\n",
       "      <th>2</th>\n",
       "      <td>2</td>\n",
       "      <td>sadece suriye değil afgan pakistan gitmek tali...</td>\n",
       "      <td>Negative</td>\n",
       "    </tr>\n",
       "    <tr>\n",
       "      <th>3</th>\n",
       "      <td>3</td>\n",
       "      <td>adana mülteci kamp yemek beğenmek suriye olay ...</td>\n",
       "      <td>Neutral</td>\n",
       "    </tr>\n",
       "    <tr>\n",
       "      <th>4</th>\n",
       "      <td>4</td>\n",
       "      <td>gün biri hülya han yahut bir yakın suriye afga...</td>\n",
       "      <td>Neutral</td>\n",
       "    </tr>\n",
       "    <tr>\n",
       "      <th>...</th>\n",
       "      <td>...</td>\n",
       "      <td>...</td>\n",
       "      <td>...</td>\n",
       "    </tr>\n",
       "    <tr>\n",
       "      <th>35880</th>\n",
       "      <td>35880</td>\n",
       "      <td>faşizm akp yarmak li çete soymak akp saray yol...</td>\n",
       "      <td>Negative</td>\n",
       "    </tr>\n",
       "    <tr>\n",
       "      <th>35881</th>\n",
       "      <td>35881</td>\n",
       "      <td>e devlet te isim köyişi değişik gelmek suriye ...</td>\n",
       "      <td>Negative</td>\n",
       "    </tr>\n",
       "    <tr>\n",
       "      <th>35882</th>\n",
       "      <td>35882</td>\n",
       "      <td>suriye dönmek demek</td>\n",
       "      <td>Neutral</td>\n",
       "    </tr>\n",
       "    <tr>\n",
       "      <th>35883</th>\n",
       "      <td>35883</td>\n",
       "      <td>suriye</td>\n",
       "      <td>Neutral</td>\n",
       "    </tr>\n",
       "    <tr>\n",
       "      <th>35884</th>\n",
       "      <td>35884</td>\n",
       "      <td>suriye demek öso taciz getirildi zaten</td>\n",
       "      <td>Negative</td>\n",
       "    </tr>\n",
       "  </tbody>\n",
       "</table>\n",
       "<p>35885 rows × 3 columns</p>\n",
       "</div>"
      ],
      "text/plain": [
       "       Unnamed: 0                                              Tweet  \\\n",
       "0               0  suriye türkiye sosyal demogratifyapısınıbozmuş...   \n",
       "1               1  devlet suriye güven bölge aşama ilerlemek yapm...   \n",
       "2               2  sadece suriye değil afgan pakistan gitmek tali...   \n",
       "3               3  adana mülteci kamp yemek beğenmek suriye olay ...   \n",
       "4               4  gün biri hülya han yahut bir yakın suriye afga...   \n",
       "...           ...                                                ...   \n",
       "35880       35880  faşizm akp yarmak li çete soymak akp saray yol...   \n",
       "35881       35881  e devlet te isim köyişi değişik gelmek suriye ...   \n",
       "35882       35882                                suriye dönmek demek   \n",
       "35883       35883                                             suriye   \n",
       "35884       35884             suriye demek öso taciz getirildi zaten   \n",
       "\n",
       "      PredictedSentiment  \n",
       "0               Negative  \n",
       "1                Neutral  \n",
       "2               Negative  \n",
       "3                Neutral  \n",
       "4                Neutral  \n",
       "...                  ...  \n",
       "35880           Negative  \n",
       "35881           Negative  \n",
       "35882            Neutral  \n",
       "35883            Neutral  \n",
       "35884           Negative  \n",
       "\n",
       "[35885 rows x 3 columns]"
      ]
     },
     "execution_count": 3,
     "metadata": {},
     "output_type": "execute_result"
    }
   ],
   "source": [
    "df"
   ]
  },
  {
   "cell_type": "code",
   "execution_count": 4,
   "id": "fe3f031d",
   "metadata": {},
   "outputs": [
    {
     "data": {
      "text/html": [
       "<div>\n",
       "<style scoped>\n",
       "    .dataframe tbody tr th:only-of-type {\n",
       "        vertical-align: middle;\n",
       "    }\n",
       "\n",
       "    .dataframe tbody tr th {\n",
       "        vertical-align: top;\n",
       "    }\n",
       "\n",
       "    .dataframe thead th {\n",
       "        text-align: right;\n",
       "    }\n",
       "</style>\n",
       "<table border=\"1\" class=\"dataframe\">\n",
       "  <thead>\n",
       "    <tr style=\"text-align: right;\">\n",
       "      <th></th>\n",
       "      <th>Unnamed: 0</th>\n",
       "      <th>Tweet</th>\n",
       "      <th>PredictedSentiment</th>\n",
       "    </tr>\n",
       "  </thead>\n",
       "  <tbody>\n",
       "    <tr>\n",
       "      <th>0</th>\n",
       "      <td>0</td>\n",
       "      <td>suriye türkiye sosyal demogratifyapısınıbozmuş...</td>\n",
       "      <td>Negative</td>\n",
       "    </tr>\n",
       "    <tr>\n",
       "      <th>2</th>\n",
       "      <td>2</td>\n",
       "      <td>sadece suriye değil afgan pakistan gitmek tali...</td>\n",
       "      <td>Negative</td>\n",
       "    </tr>\n",
       "    <tr>\n",
       "      <th>7</th>\n",
       "      <td>7</td>\n",
       "      <td>suriye izlemek gidip ülke şeref yaşamak</td>\n",
       "      <td>Negative</td>\n",
       "    </tr>\n",
       "    <tr>\n",
       "      <th>8</th>\n",
       "      <td>8</td>\n",
       "      <td>suriye türkiye gelmek değişmek demografik yapı...</td>\n",
       "      <td>Negative</td>\n",
       "    </tr>\n",
       "    <tr>\n",
       "      <th>14</th>\n",
       "      <td>14</td>\n",
       "      <td>suriye pakistan afganistan afrika kıyamet kada...</td>\n",
       "      <td>Negative</td>\n",
       "    </tr>\n",
       "    <tr>\n",
       "      <th>...</th>\n",
       "      <td>...</td>\n",
       "      <td>...</td>\n",
       "      <td>...</td>\n",
       "    </tr>\n",
       "    <tr>\n",
       "      <th>35876</th>\n",
       "      <td>35876</td>\n",
       "      <td>temmuz suriye saye kurtulmak demek kadın san y...</td>\n",
       "      <td>Negative</td>\n",
       "    </tr>\n",
       "    <tr>\n",
       "      <th>35877</th>\n",
       "      <td>35877</td>\n",
       "      <td>suriye video çekiyor demek mal herif biz insan...</td>\n",
       "      <td>Negative</td>\n",
       "    </tr>\n",
       "    <tr>\n",
       "      <th>35880</th>\n",
       "      <td>35880</td>\n",
       "      <td>faşizm akp yarmak li çete soymak akp saray yol...</td>\n",
       "      <td>Negative</td>\n",
       "    </tr>\n",
       "    <tr>\n",
       "      <th>35881</th>\n",
       "      <td>35881</td>\n",
       "      <td>e devlet te isim köyişi değişik gelmek suriye ...</td>\n",
       "      <td>Negative</td>\n",
       "    </tr>\n",
       "    <tr>\n",
       "      <th>35884</th>\n",
       "      <td>35884</td>\n",
       "      <td>suriye demek öso taciz getirildi zaten</td>\n",
       "      <td>Negative</td>\n",
       "    </tr>\n",
       "  </tbody>\n",
       "</table>\n",
       "<p>11964 rows × 3 columns</p>\n",
       "</div>"
      ],
      "text/plain": [
       "       Unnamed: 0                                              Tweet  \\\n",
       "0               0  suriye türkiye sosyal demogratifyapısınıbozmuş...   \n",
       "2               2  sadece suriye değil afgan pakistan gitmek tali...   \n",
       "7               7            suriye izlemek gidip ülke şeref yaşamak   \n",
       "8               8  suriye türkiye gelmek değişmek demografik yapı...   \n",
       "14             14  suriye pakistan afganistan afrika kıyamet kada...   \n",
       "...           ...                                                ...   \n",
       "35876       35876  temmuz suriye saye kurtulmak demek kadın san y...   \n",
       "35877       35877  suriye video çekiyor demek mal herif biz insan...   \n",
       "35880       35880  faşizm akp yarmak li çete soymak akp saray yol...   \n",
       "35881       35881  e devlet te isim köyişi değişik gelmek suriye ...   \n",
       "35884       35884             suriye demek öso taciz getirildi zaten   \n",
       "\n",
       "      PredictedSentiment  \n",
       "0               Negative  \n",
       "2               Negative  \n",
       "7               Negative  \n",
       "8               Negative  \n",
       "14              Negative  \n",
       "...                  ...  \n",
       "35876           Negative  \n",
       "35877           Negative  \n",
       "35880           Negative  \n",
       "35881           Negative  \n",
       "35884           Negative  \n",
       "\n",
       "[11964 rows x 3 columns]"
      ]
     },
     "execution_count": 4,
     "metadata": {},
     "output_type": "execute_result"
    }
   ],
   "source": [
    "negative = df[df[\"PredictedSentiment\"] == \"Negative\"]\n",
    "negative"
   ]
  },
  {
   "cell_type": "code",
   "execution_count": 5,
   "id": "1d58c70e",
   "metadata": {},
   "outputs": [],
   "source": [
    "def make_n_grams(texts):\n",
    "    bigram = gensim.models.Phrases(texts, min_count=5, threshold=100)  # higher threshold fewer phrases.\n",
    "    bigram_mod = gensim.models.phrases.Phraser(bigram)\n",
    "    trigram = gensim.models.Phrases(bigram[texts], threshold=100)\n",
    "    trigram_mod = gensim.models.phrases.Phraser(trigram)\n",
    "    bigrams_text = [bigram_mod[doc] for doc in texts]\n",
    "    trigrams_text =  [trigram_mod[bigram_mod[doc]] for doc in bigrams_text]\n",
    "    return trigrams_text"
   ]
  },
  {
   "cell_type": "code",
   "execution_count": 6,
   "id": "51a7cefd",
   "metadata": {},
   "outputs": [
    {
     "name": "stderr",
     "output_type": "stream",
     "text": [
      "C:\\Users\\Alkan\\AppData\\Local\\Temp\\ipykernel_12556\\1752566637.py:1: SettingWithCopyWarning: \n",
      "A value is trying to be set on a copy of a slice from a DataFrame.\n",
      "Try using .loc[row_indexer,col_indexer] = value instead\n",
      "\n",
      "See the caveats in the documentation: https://pandas.pydata.org/pandas-docs/stable/user_guide/indexing.html#returning-a-view-versus-a-copy\n",
      "  negative['Tweet'] = negative.Tweet.values.tolist()\n"
     ]
    }
   ],
   "source": [
    "\n",
    "negative['Tweet'] = negative.Tweet.values.tolist()\n",
    "\n",
    "def sent_to_words(sentences):\n",
    "    for sentence in sentences:\n",
    "        yield(gensim.utils.simple_preprocess(str(sentence)))"
   ]
  },
  {
   "cell_type": "code",
   "execution_count": 7,
   "id": "bbff9e90",
   "metadata": {},
   "outputs": [],
   "source": [
    "tokens_tweets = list(sent_to_words(negative['Tweet']))"
   ]
  },
  {
   "cell_type": "code",
   "execution_count": 8,
   "id": "b621ea2e",
   "metadata": {},
   "outputs": [],
   "source": [
    "np.random.seed(0) #for reproducability"
   ]
  },
  {
   "cell_type": "code",
   "execution_count": 9,
   "id": "5878bfd0",
   "metadata": {},
   "outputs": [
    {
     "name": "stdout",
     "output_type": "stream",
     "text": [
      "In stage 0: transferred 9612 clusters with 15 clusters populated\n",
      "In stage 1: transferred 5193 clusters with 15 clusters populated\n",
      "In stage 2: transferred 3736 clusters with 15 clusters populated\n",
      "In stage 3: transferred 3123 clusters with 15 clusters populated\n",
      "In stage 4: transferred 2774 clusters with 15 clusters populated\n",
      "In stage 5: transferred 2539 clusters with 15 clusters populated\n",
      "In stage 6: transferred 2504 clusters with 15 clusters populated\n",
      "In stage 7: transferred 2458 clusters with 15 clusters populated\n",
      "In stage 8: transferred 2398 clusters with 15 clusters populated\n",
      "In stage 9: transferred 2273 clusters with 15 clusters populated\n",
      "In stage 10: transferred 2133 clusters with 15 clusters populated\n",
      "In stage 11: transferred 2070 clusters with 15 clusters populated\n",
      "In stage 12: transferred 2011 clusters with 15 clusters populated\n",
      "In stage 13: transferred 1979 clusters with 15 clusters populated\n",
      "In stage 14: transferred 1942 clusters with 15 clusters populated\n",
      "In stage 15: transferred 1957 clusters with 15 clusters populated\n",
      "In stage 16: transferred 1875 clusters with 15 clusters populated\n",
      "In stage 17: transferred 1922 clusters with 15 clusters populated\n",
      "In stage 18: transferred 1908 clusters with 15 clusters populated\n",
      "In stage 19: transferred 1879 clusters with 15 clusters populated\n",
      "In stage 20: transferred 1813 clusters with 15 clusters populated\n",
      "In stage 21: transferred 1734 clusters with 15 clusters populated\n",
      "In stage 22: transferred 1745 clusters with 15 clusters populated\n",
      "In stage 23: transferred 1693 clusters with 15 clusters populated\n",
      "In stage 24: transferred 1726 clusters with 15 clusters populated\n",
      "In stage 25: transferred 1682 clusters with 15 clusters populated\n",
      "In stage 26: transferred 1718 clusters with 15 clusters populated\n",
      "In stage 27: transferred 1672 clusters with 15 clusters populated\n",
      "In stage 28: transferred 1613 clusters with 15 clusters populated\n",
      "In stage 29: transferred 1590 clusters with 15 clusters populated\n"
     ]
    }
   ],
   "source": [
    "mgp = MovieGroupProcess(K=15, alpha=0.01, beta=0.01, n_iters=30) \n",
    "\n",
    "vocab = set(x for tweet in tokens_tweets for x in tweet)\n",
    "n_terms = len(vocab)\n",
    "model = mgp.fit(tokens_tweets, n_terms)"
   ]
  },
  {
   "cell_type": "code",
   "execution_count": 10,
   "id": "62ee4cd6",
   "metadata": {},
   "outputs": [],
   "source": [
    "def top_words(cluster_word_distribution, top_cluster, values):\n",
    "    for cluster in top_cluster:\n",
    "        sort_dicts =sorted(mgp.cluster_word_distribution[cluster].items(), key=lambda k: k[1], reverse=True)[:values]\n",
    "        print(\"\\nCluster %s : %s\"%(cluster,sort_dicts))"
   ]
  },
  {
   "cell_type": "code",
   "execution_count": 11,
   "id": "a6503938",
   "metadata": {},
   "outputs": [
    {
     "name": "stdout",
     "output_type": "stream",
     "text": [
      "Number of documents per topic : [1244   42 2489  129   57 2129   69  234 1040  212 2244   89 1827   96\n",
      "   63]\n",
      "\n",
      "Most important clusters (by number of docs inside): [ 2 10  5 12  0  8  7  9  3 13 11  6 14  4  1]\n",
      "\n",
      "Cluster 2 : [('suriye', 3036), ('ülke', 1113), ('vatan', 734), ('bir', 725), ('olmak', 635), ('türk', 603), ('biz', 558), ('demek', 481), ('kendi', 388), ('savaşmak', 379), ('değil', 374), ('etmek', 370), ('mi', 369), ('bayrak', 357), ('desen', 356), ('çocuk', 347), ('afgan', 345), ('ukrayna', 327), ('se', 303), ('bun', 293)]\n",
      "\n",
      "Cluster 10 : [('suriye', 2824), ('ülke', 858), ('bir', 771), ('olmak', 684), ('türk', 528), ('biz', 502), ('çocuk', 461), ('ev', 446), ('afgan', 395), ('etmek', 368), ('var', 366), ('demek', 360), ('ben', 351), ('iş', 347), ('desen', 335), ('kendi', 328), ('mi', 300), ('yok', 295), ('gitmek', 287), ('insan', 280)]\n",
      "\n",
      "Cluster 5 : [('suriye', 2670), ('ülke', 1099), ('bir', 927), ('olmak', 709), ('türk', 525), ('afgan', 484), ('demek', 402), ('desen', 379), ('değil', 374), ('biz', 368), ('türkiye', 345), ('bun', 295), ('gitmek', 283), ('var', 275), ('iş', 249), ('mi', 242), ('etmek', 240), ('soru', 238), ('insan', 237), ('yok', 232)]\n",
      "\n",
      "Cluster 12 : [('suriye', 2403), ('ülke', 1212), ('bir', 707), ('olmak', 577), ('değil', 400), ('biz', 367), ('kendi', 358), ('türkiye', 339), ('türk', 325), ('desen', 305), ('gitmek', 300), ('demek', 298), ('etmek', 276), ('vatan', 269), ('afgan', 263), ('savaşmak', 253), ('bun', 233), ('insan', 231), ('istemek', 230), ('mi', 229)]\n",
      "\n",
      "Cluster 0 : [('suriye', 1543), ('ülke', 497), ('bir', 393), ('oy', 364), ('demek', 319), ('olmak', 297), ('gitmek', 263), ('türk', 225), ('biz', 216), ('akp', 201), ('desen', 200), ('vermek', 174), ('afgan', 172), ('millet', 163), ('seçim', 163), ('parti', 159), ('kendi', 154), ('bun', 151), ('yok', 148), ('artık', 143)]\n",
      "\n",
      "Cluster 8 : [('suriye', 1249), ('ülke', 524), ('bir', 317), ('gitmek', 293), ('biz', 280), ('olmak', 240), ('afgan', 240), ('demek', 226), ('desen', 206), ('artık', 201), ('mi', 154), ('türk', 151), ('bun', 149), ('kendi', 146), ('ben', 142), ('gelmek', 134), ('istemek', 134), ('değil', 133), ('pakistan', 117), ('millet', 104)]\n",
      "\n",
      "Cluster 7 : [('suriye', 392), ('ülke', 126), ('geri', 92), ('mülteci', 55), ('afgan', 55), ('geçici', 53), ('bir', 50), ('dönmek', 49), ('değil', 48), ('mi', 46), ('türkiye', 43), ('biz', 42), ('sığınmacı', 41), ('desen', 39), ('demek', 36), ('kor', 35), ('statü', 34), ('olmak', 33), ('yılmak', 32), ('gitmek', 31)]\n",
      "\n",
      "Cluster 9 : [('suriye', 304), ('saye', 135), ('temmuz', 132), ('ülke', 79), ('kazan', 75), ('olmak', 68), ('ikbal', 66), ('demek', 60), ('vatan', 56), ('bir', 56), ('kendi', 54), ('yağmur', 54), ('gürpınar', 52), ('gelmek', 37), ('yağmak', 35), ('desen', 34), ('kadar', 31), ('savaş', 31), ('türk', 31), ('biz', 30)]\n",
      "\n",
      "Cluster 3 : [('suriye', 206), ('demografik', 48), ('yapı', 47), ('türkiye', 45), ('ülke', 42), ('demek', 31), ('desen', 21), ('türk', 21), ('değişmek', 21), ('namaz', 21), ('bir', 20), ('etmek', 20), ('işgal', 20), ('akp', 18), ('arap', 17), ('mi', 17), ('hatay', 17), ('mülteci', 16), ('nin', 14), ('kim', 14)]\n",
      "\n",
      "Cluster 13 : [('suriye', 106), ('sığınmacı', 47), ('geri', 36), ('gönderilmeli', 34), ('derhâl', 33), ('bütün', 31), ('ülke', 27), ('yasadışı', 27), ('türk', 22), ('türkiye', 18), ('olmak', 17), ('stemi', 15), ('bir', 14), ('gitmek', 14), ('mülteci', 13), ('tanju', 13), ('özcan', 13), ('yorum', 13), ('afgan', 11), ('oy', 11)]\n",
      "\n",
      "Cluster 11 : [('suriye', 174), ('erdoğan', 33), ('stemiyorum', 31), ('sahip', 30), ('suri', 29), ('etmek', 28), ('cumhurbaşkanı', 26), ('kendi', 26), ('ülkemdemültecii', 26), ('yemek', 22), ('toprak', 21), ('türk', 20), ('ev', 20), ('vatan', 17), ('as', 17), ('hatay', 17), ('zaman', 17), ('arzu', 17), ('gelmek', 16), ('parti', 16)]\n",
      "\n",
      "Cluster 6 : [('suriye', 89), ('türk', 47), ('sınav', 41), ('olmak', 27), ('türkiye', 21), ('girmek', 19), ('bir', 18), ('arapça', 18), ('bayrak', 16), ('ülke', 16), ('afgan', 15), ('dil', 14), ('erdoğan', 12), ('akp', 12), ('mi', 11), ('vatandaş', 11), ('ehliyet', 11), ('suri', 10), ('almak', 10), ('kemal', 9)]\n",
      "\n",
      "Cluster 14 : [('suriye', 78), ('türk', 48), ('bir', 43), ('elektrik', 41), ('iç', 39), ('zaman', 39), ('zam', 32), ('afgan', 29), ('gidecek', 29), ('büyük', 26), ('insan', 24), ('mülteci', 22), ('şirket', 21), ('olacak', 20), ('gün', 20), ('kavga', 20), ('afrin', 20), ('yüz', 19), ('cahil', 19), ('binlerce', 19)]\n",
      "\n",
      "Cluster 4 : [('suriye', 64), ('bir', 28), ('ülke', 18), ('afgan', 17), ('desen', 15), ('artık', 15), ('arap', 14), ('yok', 14), ('türk', 13), ('kültür', 13), ('biz', 12), ('değil', 11), ('mi', 11), ('ön', 10), ('ev', 9), ('millet', 8), ('kendi', 8), ('büyük', 7), ('işgal', 7), ('girmek', 7)]\n",
      "\n",
      "Cluster 1 : [('suriye', 42), ('türk', 21), ('yok', 17), ('bir', 13), ('biz', 12), ('olmak', 12), ('var', 9), ('ödemek', 9), ('gitmek', 9), ('di', 8), ('iş', 7), ('dua', 7), ('demek', 6), ('istemek', 6), ('milyon', 6), ('sığınmacı', 6), ('dünya', 6), ('karşı', 6), ('gi', 6), ('kriz', 6)]\n"
     ]
    }
   ],
   "source": [
    "doc_count = np.array(mgp.cluster_doc_count)\n",
    "print('Number of documents per topic :', doc_count)\n",
    "\n",
    "# topics sorted by the number of document they are allocated to\n",
    "top_index = doc_count.argsort()[-15:][::-1]\n",
    "print('\\nMost important clusters (by number of docs inside):', top_index)\n",
    "# show the top 5 words in term frequency for each cluster \n",
    "top_words(mgp.cluster_word_distribution, top_index, 20)"
   ]
  },
  {
   "cell_type": "code",
   "execution_count": 100,
   "id": "6d548926",
   "metadata": {},
   "outputs": [
    {
     "ename": "SyntaxError",
     "evalue": "EOL while scanning string literal (624936307.py, line 1)",
     "output_type": "error",
     "traceback": [
      "\u001b[1;36m  Input \u001b[1;32mIn [100]\u001b[1;36m\u001b[0m\n\u001b[1;33m    gsdmm_clusters=[\"Cluster 11 : [('afgan', 3160), ('suriye', 2092), ('ülke', 1977), ('bir', 1581), ('olmak', 978), ('mülteci', 944), ('desen', 621), ('demek', 607), ('değil', 563), ('gelmek', 535), ('var', 523), ('türkiye', 491), ('bun', 474), ('türk', 425), ('mi', 417), ('biz', 416), ('on', 412), ('yok', 389), ('kendi', 332), ('kadar', 330)”],\u001b[0m\n\u001b[1;37m                                                                                                                                                                                                                                                                                                                                                            ^\u001b[0m\n\u001b[1;31mSyntaxError\u001b[0m\u001b[1;31m:\u001b[0m EOL while scanning string literal\n"
     ]
    }
   ],
   "source": [
    "gsdmm_clusters=[\"Cluster 11 : [('afgan', 3160), ('suriye', 2092), ('ülke', 1977), ('bir', 1581), ('olmak', 978), ('mülteci', 944), ('desen', 621), ('demek', 607), ('değil', 563), ('gelmek', 535), ('var', 523), ('türkiye', 491), ('bun', 474), ('türk', 425), ('mi', 417), ('biz', 416), ('on', 412), ('yok', 389), ('kendi', 332), ('kadar', 330)”],\n",
    "\n",
    "[\"Cluster 1 : [('afgan', 1903), ('ülke', 1242), ('suriye', 1005), ('bir', 778), ('mülteci', 537), ('olmak', 529), ('çocuk', 376), ('mi', 359), ('demek', 352), ('değil', 313), ('biz', 303), ('bun', 292), ('gelmek', 288), ('ben', 286), ('on', 282), ('desen', 277), ('kendi', 273), ('kız', 260), ('yok', 252), ('vatan', 240)”],\n",
    "\n",
    "[\"Cluster 13 : [('afgan', 200), ('suriye', 152), ('iş', 87), ('bir', 74), ('olmak', 72), ('ülke', 64), ('yok', 59), ('çalışmak', 41), ('desen', 37), ('ev', 37), ('biz', 36), ('var', 36), ('değil', 33), ('do', 31), ('on', 30), ('demek', 29), ('türk', 29), ('mülteci', 28), ('gelmek', 28), ('mi', 27)”],\n",
    "\n",
    "[\"Cluster 5 : [('türkiye', 212), ('bütün', 107), ('iade', 107), ('karışmak', 105), ('mülteci', 100), ('geri', 94), ('mahalle', 94), ('derhâl', 94), ('göçmen', 90), ('alınıp', 88), ('sığınmak', 79), ('kötü', 77), ('karışacak', 76), ('afgan', 73), ('hudutnamustur', 69), ('suriye', 67), ('arap', 66), ('afrikalı', 59), ('edilsinleryoksa', 58), ('ran', 47)”],\n",
    "\n",
    "[\"luster 3 : [('yıl', 185), ('geri', 161), ('çocuk', 129), ('afgan', 101), ('bizde', 99), ('suriye', 83), ('özcan', 79), ('bun', 73), ('tanju', 73), ('karı', 67), ('göz', 67), ('yaşın', 66), ('olabilecek', 66), ('sevmek', 65), ('yavru', 64), ('entegre', 60), ('biz', 56), ('top', 56), ('edeceksiniz', 50), ('bakıyorlar', 49)],\n",
    "\n",
    "[\"Cluster 14 : [('mülteci', 97), ('afgan', 92), ('ayşegül', 81), ('bir', 69), ('yaşın', 56), ('ülke', 40), ('tarafından', 40), ('çocuk', 37), ('tecavüz', 37), ('taş', 36), ('kız', 35), ('hayat', 33), ('aydın', 28), ('olmak', 27), ('uğrayan', 27), ('saldırı', 26), ('istemek', 25), ('baş', 25), ('suriye', 24), ('kafa', 22)”],\n",
    "\n",
    "[\"Cluster 2 : [('ülke', 88), ('afgan', 83), ('suriye', 58), ('mülteci', 52), ('sığınmak', 31), ('istemek', 27), ('irak', 25), ('vs', 23), ('göçmek', 22), ('türkiye', 21), ('kendi', 20), ('sınırdışı', 18), ('arap', 17), ('suri', 17), ('yok', 16), ('ler', 15), ('olmak', 14), ('türk', 14), ('bir', 13), ('vatandaş', 12)”],\n",
    "\n",
    "[\"Cluster 8 : [('afgan', 77), ('suriye', 76), ('sığınmak', 34), ('ülke', 34), ('iş', 30), ('ordu', 28), ('haç', 27), ('millet', 26), ('para', 26), ('el', 26), ('aşı', 26), ('alıyor', 26), ('ekmek', 26), ('proje', 21), ('gitmek', 19), ('istemek', 19), ('dönmek', 19), ('lar', 12), ('göz', 10), ('halk', 10)”],\n",
    "\n",
    "[\"Cluster 0 : [('afgan', 76), ('mülteci', 53), ('bir', 44), ('kız', 32), ('ayşegül', 29), ('olmak', 26), ('ülke', 23), ('tarafından', 22), ('baş', 21), ('desen', 19), ('genç', 19), ('taş', 19), ('suriye', 17), ('yaşın', 17), ('tecavüz', 15), ('iç', 13), ('hayat', 13), ('türkiye', 12), ('mi', 12), ('sınır', 11)”],\n",
    "\n",
    "[\"Cluster 12 : [('afgan', 74), ('türkiye', 44), ('olmak', 36), ('sağlık', 34), ('asker', 29), ('çocuk', 28), ('traş', 28), ('kadın', 28), ('suriye', 25), ('âdeta', 25), ('gelir', 22), ('ülke', 19), ('masal', 19), ('genç', 15), ('taliban', 14), ('mülteci', 14), ('avukat', 14), ('korkunç', 14), ('yaka', 13), ('desen', 12)”],\n",
    "\n",
    "[\"Cluster 10 : [('afgan', 69), ('türkiye', 63), ('olmak', 44), ('ülke', 42), ('sağlık', 39), ('âdeta', 39), ('asker', 39), ('traş', 39), ('afganistan', 35), ('çocuk', 34), ('kadın', 34), ('görünüm', 31), ('girmek', 30), ('sığınmak', 30), ('militan', 30), ('genç', 22), ('idare', 22), ('ediyörpütin', 22), ('hudutnamustur', 21), ('gelirtürkiyeyi', 17)”],\n",
    "\n",
    "[\"Cluster 6 : [('afgan', 50), ('ülke', 24), ('gi', 22), ('değil', 20), ('on', 17), ('emperyalizm', 14), ('ni', 14), ('mi', 12), ('millet', 12), ('bi', 12), ('bir', 11), ('mazlum', 11), ('ede', 11), ('li', 10), ('suri', 10), ('istemek', 10), ('yeli', 10), ('bun', 9), ('ler', 9), ('çocuk', 8)”],\n",
    "\n",
    "[\"Cluster 9 : [('afgan', 36), ('bilemek', 29), ('herkes', 28), ('olmak', 26), ('fakir', 21), ('suriye', 18), ('yine', 18), ('savaşmak', 18), ('mülteci', 14), ('türkiye', 14), ('asker', 14), ('genç', 13), ('bir', 10), ('kadın', 10), ('sağlık', 10), ('almak', 10), ('çocuk', 10), ('bitmek', 10), ('gem', 10), ('kaptan', 10)”],\n",
    "\n",
    "[\"Cluster 7 : [('bir', 42), ('afgan', 24), ('olmak', 17), ('suriye', 12), ('önlem', 12), ('ülke', 11), ('sonra', 10), ('yan', 10), ('biz', 9), ('yok', 9), ('mülteci', 9), ('milyon', 7), ('can', 7), ('türkiye', 6), ('yanmak', 6), ('ad', 6), ('bilemek', 6), ('aile', 6), ('patlamak', 6), ('demek', 5)”],\n",
    "\n",
    "[\"Cluster 4 : [('afgan', 17), ('suriye', 11), ('ülke', 9), ('bir', 9), ('mülteci', 8), ('türkiye', 7), ('pakistan', 7), ('olmak', 6), ('milyon', 6), ('fır', 6), ('işgal', 5), ('değil', 4), ('demek', 4), ('durum', 4), ('vatandaş', 4), ('kul', 4), ('uyuşturmak', 4), ('dava', 4), ('cevap', 4), ('türk', 3)\"]\n"
   ]
  },
  {
   "cell_type": "code",
   "execution_count": null,
   "id": "32e54388",
   "metadata": {},
   "outputs": [],
   "source": [
    "gsdmm_clusters = [[\"Cluster 2 : [('afganlar', 987), ('ve', 657), ('suriyeliler', 519), ('bu', 510), ('bir', 502), ('de', 311), ('mülteci', 289), ('da', 261), ('afgan', 259), ('suriyeli', 256), ('ne', 213), ('için', 198), ('var', 198), ('yok', 191), ('türkiye', 179), ('gibi', 160), ('çok', 154), ('değil', 146), ('daha', 134), ('ülke', 127)\"],\n",
    "\n",
    "[\"Cluster 10 : [('afganlar', 563), ('bir', 339), ('bu', 312), ('ve', 298), ('mülteci', 277), ('suriyeliler', 274), ('afgan', 255), ('suriyeli', 227), ('ne', 225), ('da', 162), ('de', 161), ('yok', 123), ('var', 103), ('değil', 101), ('daha', 100), ('gibi', 99), ('kadar', 96), ('için', 92), ('çok', 90), ('ama', 89)\"],\n",
    "\n",
    "[\"Cluster 8 : [('afganlar', 623), ('bu', 395), ('ve', 320), ('bir', 273), ('afgan', 239), ('mülteci', 211), ('suriyeliler', 200), ('ne', 181), ('da', 155), ('de', 153), ('için', 140), ('değil', 126), ('ama', 97), ('suriyeli', 96), ('yok', 93), ('var', 91), ('ya', 87), ('kadar', 85), ('kendi', 85), ('neden', 83)\"],\n",
    "\n",
    "[\"Cluster 14 : [('afganlar', 402), ('ve', 345), ('bu', 242), ('bir', 242), ('mülteci', 227), ('afgan', 216), ('suriyeli', 186), ('suriyeliler', 168), ('da', 130), ('de', 128), ('ne', 119), ('değil', 108), ('türkiye', 103), ('için', 97), ('gibi', 81), ('var', 79), ('kadar', 75), ('çok', 72), ('https', 60), ('co', 60)\"],\n",
    "\n",
    "[\"Cluster 0 : [('afganlar', 442), ('ve', 260), ('bir', 241), ('suriyeliler', 204), ('bu', 188), ('da', 143), ('de', 142), ('afgan', 121), ('ne', 116), ('için', 104), ('mülteci', 101), ('suriyeli', 98), ('türkiye', 90), ('ama', 84), ('değil', 73), ('var', 65), ('gibi', 62), ('yok', 62), ('daha', 61), ('çok', 57)\"],\n",
    "\n",
    "[\"Cluster 7 : [('afganlar', 375), ('bu', 184), ('suriyeliler', 172), ('bir', 151), ('ve', 150), ('ne', 104), ('de', 85), ('mülteci', 84), ('da', 82), ('afgan', 80), ('suriyeli', 80), ('var', 76), ('yok', 75), ('ülke', 67), ('kadar', 60), ('kendi', 59), ('daha', 58), ('ama', 57), ('sonra', 55), ('ya', 50)\"],\n",
    "\n",
    "[\"Cluster 6 : [('afganlar', 290), ('suriyeliler', 162), ('bu', 107), ('ve', 106), ('bir', 92), ('ne', 86), ('mülteci', 61), ('yok', 60), ('var', 57), ('suriyeli', 54), ('dolar', 54), ('afgan', 49), ('mi', 49), ('kendi', 45), ('de', 44), ('da', 44), ('çok', 37), ('biz', 37), ('bi', 36), ('daha', 32)\"],\n",
    "\n",
    "[\"Cluster 11 : [('afganlar', 227), ('bu', 107), ('ve', 94), ('suriyeliler', 80), ('bir', 60), ('mi', 55), ('bi', 52), ('ne', 48), ('de', 44), ('icin', 41), ('da', 40), ('herkes', 37), ('ler', 33), ('ama', 32), ('suri', 32), ('ye', 30), ('ki', 29), ('biliyor', 29), ('daha', 28), ('yeli', 28)\"],\n",
    "\n",
    "[\"Cluster 4 : [('afgan', 176), ('mülteci', 171), ('bir', 148), ('ayşegül', 116), ('afganlar', 74), ('bu', 68), ('tarafından', 64), ('ve', 63), ('https', 62), ('co', 62), ('taşla', 53), ('de', 50), ('yaşındaki', 50), ('tecavüz', 42), ('kız', 41), ('için', 37), ('da', 36), ('suriyeli', 33), ('istemiyorum', 33), ('türk', 32)\"],\n",
    "\n",
    "[\"Cluster 9 : [('afganlar', 150), ('ve', 99), ('suriyeliler', 66), ('bu', 63), ('bir', 62), ('de', 52), ('da', 37), ('suriyeli', 36), ('çok', 34), ('gibi', 32), ('ne', 32), ('afgan', 30), ('var', 29), ('ama', 27), ('türk', 27), ('mülteci', 25), ('daha', 24), ('suriye', 24), ('https', 23), ('co', 23)\"],\n",
    "\n",
    "[\"Cluster 13 : [('afganlar', 138), ('ve', 138), ('suriyeliler', 93), ('sığınmacılar', 38), ('bu', 37), ('mülteci', 30), ('afgan', 30), ('ülkesine', 30), ('milletin', 28), ('de', 28), ('bir', 27), ('ekmeğini', 27), ('haçlı', 27), ('ordusu', 27), ('da', 26), ('parasını', 26), ('aşını', 26), ('işini', 26), ('elinden', 26), ('alıyor', 26)\"],\n",
    "\n",
    "[\"Cluster 12 : [('yıl', 187), ('afganlar', 123), ('bizden', 99), ('suriyeliler', 94), ('geride', 93), ('özcan', 92), ('tanju', 79), ('gerideydi', 78), ('bizim', 69), ('diye', 68), ('sevdiğimiz', 66), ('karısı', 66), ('olabilecek', 66), ('yavrum', 65), ('çocuğum', 64), ('nasıl', 62), ('https', 62), ('co', 62), ('entegre', 61), ('edeceksiniz', 60)\"],\n",
    "\n",
    "[\"Cluster 3 : [('türkiye', 192), ('ve', 118), ('afganlar', 107), ('geri', 96), ('derhal', 96), ('suriyeliler', 94), ('bütün', 94), ('araplar', 94), ('alınıp', 94), ('iade', 94), ('yi', 93), ('karıştırmadan', 91), ('afrikalılar', 91), ('iranlılar', 91), ('mahallemizden', 91), ('edilsinler', 91), ('mülteciler', 80), ('göçmenler', 77), ('yoksa', 77), ('çok', 77)\"],\n",
    "\n",
    "[\"Cluster 1 : [('afganlar', 76), ('ve', 58), ('bir', 54), ('türkiye', 42), ('afgan', 41), ('mülteci', 34), ('ye', 31), ('bu', 22), ('genç', 21), ('https', 21), ('co', 21), ('de', 20), ('ne', 20), ('asker', 20), ('neden', 19), ('suriyeliler', 18), ('suriyeli', 18), ('kadınları', 18), ('olmayan', 18), ('ile', 17)\"],\n",
    "\n",
    "[\"Cluster 5 : [('türkiye', 84), ('afganlar', 77), ('ve', 61), ('ye', 61), ('putin', 44), ('neden', 43), ('adeta', 43), ('genç', 43), ('sağlıklı', 43), ('asker', 43), ('traşlı', 43), ('çocukları', 43), ('kadınları', 43), ('olmayan', 43), ('gelir', 40), ('sınırnamustur', 36), ('daki', 35), ('hudutnamustur', 34), ('ülkemize', 32), ('sığınmacı', 32)\"]]"
   ]
  },
  {
   "cell_type": "code",
   "execution_count": null,
   "id": "b744110e",
   "metadata": {},
   "outputs": [],
   "source": [
    "gsdmm_clusters = pd.DataFrame.from_dict(gsdmm_clusters)"
   ]
  },
  {
   "cell_type": "code",
   "execution_count": null,
   "id": "8646a4d7",
   "metadata": {},
   "outputs": [],
   "source": [
    "gsdmm_clusters"
   ]
  },
  {
   "cell_type": "code",
   "execution_count": null,
   "id": "12ae9ae7",
   "metadata": {},
   "outputs": [],
   "source": [
    "gsdmm_clusters.rename(columns={0: \"Dominant Keywords for GSDMM Clusters\"}, inplace=True)"
   ]
  },
  {
   "cell_type": "code",
   "execution_count": null,
   "id": "2c266955",
   "metadata": {},
   "outputs": [],
   "source": [
    "gsdmm_clusters[['Cluster No.(Importance)','Dominant Keywords:GSDMM']] = gsdmm_clusters[\"Dominant Keywords for GSDMM Clusters\"].str.split(\":\",expand=True,)\n",
    "gsdmm_clusters"
   ]
  },
  {
   "cell_type": "code",
   "execution_count": null,
   "id": "adac1db4",
   "metadata": {},
   "outputs": [],
   "source": [
    "# I didn`t rename the clusters\n",
    "\n",
    "topic_dict = {}\n",
    "topic_names = ['type 1',\n",
    "               'type 2',\n",
    "               'type 3',\n",
    "               'type 4',\n",
    "               'type 5',\n",
    "               'type 6',\n",
    "               'type 7',\n",
    "               'type 8',\n",
    "               'type 9',\n",
    "               'type 10',\n",
    "               'type 11',\n",
    "               'type 12',\n",
    "               'type 13',\n",
    "               'type 14',\n",
    "               'type 15'\n",
    "              ]\n",
    "for i, topic_num in enumerate(top_index):\n",
    "    topic_dict[topic_num]=topic_names[i] "
   ]
  },
  {
   "cell_type": "code",
   "execution_count": null,
   "id": "d3196768",
   "metadata": {},
   "outputs": [],
   "source": [
    "def create_topics_dataframe(negative_text=negative.Tweet,  mgp=mgp, threshold=0.3, topic_dict=topic_dict, lemma_text=tokens_tweets):\n",
    "    result = pd.DataFrame(columns=['Text', 'Topic', 'Rating', 'Lemma-text'])\n",
    "    for i, text in enumerate(negative_text):\n",
    "        result.at[i, 'Text'] = text\n",
    "        #result.at[i, 'Rating'] = data.Rating[i]\n",
    "        result.at[i, 'Lemma-text'] = lemma_text[i]\n",
    "        prob = mgp.choose_best_label(tokens_tweets[i])\n",
    "        if prob[1] >= threshold:\n",
    "            result.at[i, 'Topic'] = topic_dict[prob[0]]\n",
    "        else:\n",
    "            result.at[i, 'Topic'] = 'Other'\n",
    "    return result"
   ]
  },
  {
   "cell_type": "code",
   "execution_count": null,
   "id": "85f44cd0",
   "metadata": {},
   "outputs": [],
   "source": [
    "result = create_topics_dataframe(negative_text=negative.Tweet, mgp=mgp, threshold=0.3, topic_dict=topic_dict, lemma_text=tokens_tweets)\n",
    "result.head(16)"
   ]
  },
  {
   "cell_type": "code",
   "execution_count": null,
   "id": "210d5d56",
   "metadata": {},
   "outputs": [],
   "source": [
    "#VISUALIZATION"
   ]
  },
  {
   "cell_type": "code",
   "execution_count": null,
   "id": "df84dbd0",
   "metadata": {},
   "outputs": [],
   "source": [
    "import plotly.express as px\n",
    "\n",
    "fig = px.pie(result, names='Topic',  title=\"Figure 4. GSDMM for Abortion Tweets with Negative Sentiment\", color_discrete_sequence=px.colors.sequential.Burg)\n",
    "fig.show()"
   ]
  },
  {
   "cell_type": "code",
   "execution_count": null,
   "id": "03928fab",
   "metadata": {},
   "outputs": [],
   "source": [
    "result['len'] = result.Text.apply(lambda row: len(row.split()))\n",
    "result.head()"
   ]
  },
  {
   "cell_type": "code",
   "execution_count": null,
   "id": "3650e5fc",
   "metadata": {},
   "outputs": [],
   "source": [
    "result"
   ]
  },
  {
   "cell_type": "code",
   "execution_count": null,
   "id": "d0922e1e",
   "metadata": {},
   "outputs": [],
   "source": [
    "#WORDCLOUDS"
   ]
  },
  {
   "cell_type": "code",
   "execution_count": null,
   "id": "a78f09ed",
   "metadata": {},
   "outputs": [],
   "source": [
    "result['Lemma_text'] = result['Lemma-text'].apply(lambda row: ' '.join(row))"
   ]
  },
  {
   "cell_type": "code",
   "execution_count": null,
   "id": "baac1a32",
   "metadata": {},
   "outputs": [],
   "source": [
    "result = result.drop('Lemma-text', axis=1)"
   ]
  },
  {
   "cell_type": "code",
   "execution_count": null,
   "id": "afbd9b98",
   "metadata": {},
   "outputs": [],
   "source": [
    "!pip install wordcloud"
   ]
  },
  {
   "cell_type": "code",
   "execution_count": null,
   "id": "8b381d61",
   "metadata": {},
   "outputs": [],
   "source": [
    "from wordcloud import WordCloud "
   ]
  },
  {
   "cell_type": "code",
   "execution_count": null,
   "id": "0e2adf51",
   "metadata": {},
   "outputs": [],
   "source": [
    "my_stopwords = [\"afgan\", \"böyle\", \"bir\", \"bu\", \"şey\", \"mi\", \"mı\", \"var\", \"ki\", \"ama\", \"diye\", \"her\", \"tamam\",\"kadar\", \"işte\", \"çi\", \"çki\", \"bi\", \"rbia\", \"ne\", \"mıdır\", \"midir\", \"da\", \"le\", \"el\",\"için\", \"de\",\"belli\", \"ve\", \"değil\", \"gibi\", \"ile\"]"
   ]
  },
  {
   "cell_type": "code",
   "execution_count": null,
   "id": "2fb4a3eb",
   "metadata": {},
   "outputs": [],
   "source": [
    "import matplotlib.pyplot as plt"
   ]
  },
  {
   "cell_type": "code",
   "execution_count": null,
   "id": "fb525984",
   "metadata": {},
   "outputs": [],
   "source": [
    "def create_WordCloud(data, title=None):\n",
    "    wordcloud = WordCloud(width = 500, height = 500,\n",
    "                          background_color ='white',\n",
    "                          min_font_size = 15, stopwords = my_stopwords\n",
    "                         ).generate(\" \".join(data.values))\n",
    "                      \n",
    "    plt.figure(figsize = (5, 5), facecolor = None) \n",
    "    plt.imshow(wordcloud, interpolation='bilinear') \n",
    "    plt.axis(\"off\") \n",
    "    plt.tight_layout(pad = 0) \n",
    "    plt.title(title,fontsize=20)\n",
    "    plt.show() "
   ]
  },
  {
   "cell_type": "code",
   "execution_count": null,
   "id": "aa3d51a4",
   "metadata": {},
   "outputs": [],
   "source": [
    "create_WordCloud(result['Lemma_text'].loc[result.Topic == 'type 1'], title=\"Most used words in negative sentiment tweets\")"
   ]
  },
  {
   "cell_type": "code",
   "execution_count": null,
   "id": "49458e7a",
   "metadata": {},
   "outputs": [],
   "source": [
    "create_WordCloud(result['Lemma_text'].loc[result.Topic == 'type 2'], title=\"Most used words in negative sentiment tweets\")"
   ]
  },
  {
   "cell_type": "code",
   "execution_count": null,
   "id": "aff2e030",
   "metadata": {},
   "outputs": [],
   "source": []
  }
 ],
 "metadata": {
  "kernelspec": {
   "display_name": "Python 3 (ipykernel)",
   "language": "python",
   "name": "python3"
  },
  "language_info": {
   "codemirror_mode": {
    "name": "ipython",
    "version": 3
   },
   "file_extension": ".py",
   "mimetype": "text/x-python",
   "name": "python",
   "nbconvert_exporter": "python",
   "pygments_lexer": "ipython3",
   "version": "3.9.12"
  }
 },
 "nbformat": 4,
 "nbformat_minor": 5
}
