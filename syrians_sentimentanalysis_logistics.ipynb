{
 "cells": [
  {
   "cell_type": "code",
   "execution_count": 20,
   "id": "5059f3b9",
   "metadata": {},
   "outputs": [],
   "source": [
    "\n",
    "from sklearn.feature_extraction.text import CountVectorizer\n",
    "import pandas as pd\n"
   ]
  },
  {
   "cell_type": "code",
   "execution_count": 21,
   "id": "c3c2dfd4",
   "metadata": {},
   "outputs": [],
   "source": [
    "df=pd.read_csv('syrians_lemmatized.csv')"
   ]
  },
  {
   "cell_type": "code",
   "execution_count": 22,
   "id": "e357879e",
   "metadata": {},
   "outputs": [],
   "source": [
    "df=df.dropna()"
   ]
  },
  {
   "cell_type": "code",
   "execution_count": 23,
   "id": "59a2711d",
   "metadata": {},
   "outputs": [],
   "source": [
    "df1=pd.read_csv('syriansannotated_lemmatized.csv')"
   ]
  },
  {
   "cell_type": "code",
   "execution_count": 24,
   "id": "d2dfba3b",
   "metadata": {},
   "outputs": [
    {
     "data": {
      "text/html": [
       "<div>\n",
       "<style scoped>\n",
       "    .dataframe tbody tr th:only-of-type {\n",
       "        vertical-align: middle;\n",
       "    }\n",
       "\n",
       "    .dataframe tbody tr th {\n",
       "        vertical-align: top;\n",
       "    }\n",
       "\n",
       "    .dataframe thead th {\n",
       "        text-align: right;\n",
       "    }\n",
       "</style>\n",
       "<table border=\"1\" class=\"dataframe\">\n",
       "  <thead>\n",
       "    <tr style=\"text-align: right;\">\n",
       "      <th></th>\n",
       "      <th>Unnamed: 0</th>\n",
       "      <th>index</th>\n",
       "      <th>index2</th>\n",
       "      <th>date</th>\n",
       "      <th>Tweet</th>\n",
       "      <th>rand</th>\n",
       "    </tr>\n",
       "  </thead>\n",
       "  <tbody>\n",
       "    <tr>\n",
       "      <th>0</th>\n",
       "      <td>0</td>\n",
       "      <td>23704</td>\n",
       "      <td>23704</td>\n",
       "      <td>2022-08-01 15:25:58+00:00</td>\n",
       "      <td>suriye türkiye sosyal demogratifyapısınıbozmuş...</td>\n",
       "      <td>1.554126e+18</td>\n",
       "    </tr>\n",
       "    <tr>\n",
       "      <th>1</th>\n",
       "      <td>1</td>\n",
       "      <td>128052</td>\n",
       "      <td>128052</td>\n",
       "      <td>2022-04-20 02:52:24+00:00</td>\n",
       "      <td>devlet suriye güven bölge aşama ilerlemek yapm...</td>\n",
       "      <td>1.516611e+18</td>\n",
       "    </tr>\n",
       "    <tr>\n",
       "      <th>2</th>\n",
       "      <td>2</td>\n",
       "      <td>129434</td>\n",
       "      <td>129434</td>\n",
       "      <td>2022-04-19 12:34:39+00:00</td>\n",
       "      <td>sadece suriye değil afgan pakistan gitmek tali...</td>\n",
       "      <td>1.516395e+18</td>\n",
       "    </tr>\n",
       "    <tr>\n",
       "      <th>3</th>\n",
       "      <td>3</td>\n",
       "      <td>56117</td>\n",
       "      <td>56117</td>\n",
       "      <td>2022-06-24 14:43:37+00:00</td>\n",
       "      <td>adana mülteci kamp yemek beğenmek suriye olay ...</td>\n",
       "      <td>1.540345e+18</td>\n",
       "    </tr>\n",
       "    <tr>\n",
       "      <th>4</th>\n",
       "      <td>4</td>\n",
       "      <td>41939</td>\n",
       "      <td>41939</td>\n",
       "      <td>2022-07-12 20:21:22+00:00</td>\n",
       "      <td>gün biri hülya han yahut bir yakın suriye afga...</td>\n",
       "      <td>1.546953e+18</td>\n",
       "    </tr>\n",
       "    <tr>\n",
       "      <th>...</th>\n",
       "      <td>...</td>\n",
       "      <td>...</td>\n",
       "      <td>...</td>\n",
       "      <td>...</td>\n",
       "      <td>...</td>\n",
       "      <td>...</td>\n",
       "    </tr>\n",
       "    <tr>\n",
       "      <th>35883</th>\n",
       "      <td>35883</td>\n",
       "      <td>52467</td>\n",
       "      <td>52467</td>\n",
       "      <td>2022-07-01 13:06:55+00:00</td>\n",
       "      <td>faşizm akp yarmak li çete soymak akp saray yol...</td>\n",
       "      <td>1.542857e+18</td>\n",
       "    </tr>\n",
       "    <tr>\n",
       "      <th>35884</th>\n",
       "      <td>35884</td>\n",
       "      <td>139</td>\n",
       "      <td>139</td>\n",
       "      <td>2022-08-23 20:06:13+00:00</td>\n",
       "      <td>e devlet te isim köyişi değişik gelmek suriye ...</td>\n",
       "      <td>1.562169e+18</td>\n",
       "    </tr>\n",
       "    <tr>\n",
       "      <th>35885</th>\n",
       "      <td>35885</td>\n",
       "      <td>119994</td>\n",
       "      <td>119994</td>\n",
       "      <td>2022-04-29 08:18:25+00:00</td>\n",
       "      <td>suriye dönmek demek</td>\n",
       "      <td>1.519954e+18</td>\n",
       "    </tr>\n",
       "    <tr>\n",
       "      <th>35886</th>\n",
       "      <td>35886</td>\n",
       "      <td>48671</td>\n",
       "      <td>48671</td>\n",
       "      <td>2022-07-08 07:17:16+00:00</td>\n",
       "      <td>suriye</td>\n",
       "      <td>1.545306e+18</td>\n",
       "    </tr>\n",
       "    <tr>\n",
       "      <th>35887</th>\n",
       "      <td>35887</td>\n",
       "      <td>148773</td>\n",
       "      <td>148773</td>\n",
       "      <td>2022-03-30 06:17:56+00:00</td>\n",
       "      <td>suriye demek öso taciz getirildi zaten</td>\n",
       "      <td>1.509052e+18</td>\n",
       "    </tr>\n",
       "  </tbody>\n",
       "</table>\n",
       "<p>35885 rows × 6 columns</p>\n",
       "</div>"
      ],
      "text/plain": [
       "       Unnamed: 0   index  index2                       date  \\\n",
       "0               0   23704   23704  2022-08-01 15:25:58+00:00   \n",
       "1               1  128052  128052  2022-04-20 02:52:24+00:00   \n",
       "2               2  129434  129434  2022-04-19 12:34:39+00:00   \n",
       "3               3   56117   56117  2022-06-24 14:43:37+00:00   \n",
       "4               4   41939   41939  2022-07-12 20:21:22+00:00   \n",
       "...           ...     ...     ...                        ...   \n",
       "35883       35883   52467   52467  2022-07-01 13:06:55+00:00   \n",
       "35884       35884     139     139  2022-08-23 20:06:13+00:00   \n",
       "35885       35885  119994  119994  2022-04-29 08:18:25+00:00   \n",
       "35886       35886   48671   48671  2022-07-08 07:17:16+00:00   \n",
       "35887       35887  148773  148773  2022-03-30 06:17:56+00:00   \n",
       "\n",
       "                                                   Tweet          rand  \n",
       "0      suriye türkiye sosyal demogratifyapısınıbozmuş...  1.554126e+18  \n",
       "1      devlet suriye güven bölge aşama ilerlemek yapm...  1.516611e+18  \n",
       "2      sadece suriye değil afgan pakistan gitmek tali...  1.516395e+18  \n",
       "3      adana mülteci kamp yemek beğenmek suriye olay ...  1.540345e+18  \n",
       "4      gün biri hülya han yahut bir yakın suriye afga...  1.546953e+18  \n",
       "...                                                  ...           ...  \n",
       "35883  faşizm akp yarmak li çete soymak akp saray yol...  1.542857e+18  \n",
       "35884  e devlet te isim köyişi değişik gelmek suriye ...  1.562169e+18  \n",
       "35885                                suriye dönmek demek  1.519954e+18  \n",
       "35886                                             suriye  1.545306e+18  \n",
       "35887             suriye demek öso taciz getirildi zaten  1.509052e+18  \n",
       "\n",
       "[35885 rows x 6 columns]"
      ]
     },
     "execution_count": 24,
     "metadata": {},
     "output_type": "execute_result"
    }
   ],
   "source": [
    "df"
   ]
  },
  {
   "cell_type": "code",
   "execution_count": 25,
   "id": "6ff4a252",
   "metadata": {},
   "outputs": [],
   "source": [
    "vector=CountVectorizer()"
   ]
  },
  {
   "cell_type": "code",
   "execution_count": 26,
   "id": "41681acc",
   "metadata": {},
   "outputs": [],
   "source": [
    "X=df['Tweet']"
   ]
  },
  {
   "cell_type": "code",
   "execution_count": 27,
   "id": "735eaa2b",
   "metadata": {},
   "outputs": [],
   "source": [
    "X_train=df1['Tweet']"
   ]
  },
  {
   "cell_type": "code",
   "execution_count": 28,
   "id": "ce91c807",
   "metadata": {},
   "outputs": [],
   "source": [
    "X_train=vector.fit_transform(X_train)"
   ]
  },
  {
   "cell_type": "code",
   "execution_count": null,
   "id": "403c5580",
   "metadata": {},
   "outputs": [],
   "source": []
  },
  {
   "cell_type": "code",
   "execution_count": 29,
   "id": "fd9ad668",
   "metadata": {},
   "outputs": [],
   "source": [
    "X_pred=df['Tweet']"
   ]
  },
  {
   "cell_type": "code",
   "execution_count": 30,
   "id": "af1e7783",
   "metadata": {},
   "outputs": [],
   "source": [
    "X_pred=vector.transform(X_pred)"
   ]
  },
  {
   "cell_type": "code",
   "execution_count": 31,
   "id": "94a3ebcd",
   "metadata": {},
   "outputs": [],
   "source": [
    "ytrain=df1['Sentiment']"
   ]
  },
  {
   "cell_type": "code",
   "execution_count": 32,
   "id": "7ff6b88d",
   "metadata": {},
   "outputs": [],
   "source": [
    "from sklearn.linear_model import LogisticRegression\n",
    "log_reg = LogisticRegression()\n",
    "\n",
    "log_reg.fit(X_train, ytrain)\n",
    "ypred=log_reg.predict(X_pred)\n"
   ]
  },
  {
   "cell_type": "code",
   "execution_count": 33,
   "id": "e4a5420b",
   "metadata": {},
   "outputs": [
    {
     "data": {
      "text/plain": [
       "array(['Negative', 'Neutral', 'Negative', ..., 'Neutral', 'Neutral',\n",
       "       'Negative'], dtype=object)"
      ]
     },
     "execution_count": 33,
     "metadata": {},
     "output_type": "execute_result"
    }
   ],
   "source": [
    "ypred"
   ]
  },
  {
   "cell_type": "code",
   "execution_count": 34,
   "id": "27d488ba",
   "metadata": {},
   "outputs": [],
   "source": [
    "df2 = pd.concat([X.reset_index(drop=True), pd.Series(ypred, name=\"PredictedSentiment\")], axis=1)"
   ]
  },
  {
   "cell_type": "code",
   "execution_count": 35,
   "id": "7bfa0fd9",
   "metadata": {},
   "outputs": [
    {
     "data": {
      "text/plain": [
       "Neutral     23491\n",
       "Negative    11964\n",
       "Positive      430\n",
       "Name: PredictedSentiment, dtype: int64"
      ]
     },
     "execution_count": 35,
     "metadata": {},
     "output_type": "execute_result"
    }
   ],
   "source": [
    "df2['PredictedSentiment'].value_counts()"
   ]
  },
  {
   "cell_type": "code",
   "execution_count": 36,
   "id": "322b2660",
   "metadata": {},
   "outputs": [
    {
     "data": {
      "text/html": [
       "<div>\n",
       "<style scoped>\n",
       "    .dataframe tbody tr th:only-of-type {\n",
       "        vertical-align: middle;\n",
       "    }\n",
       "\n",
       "    .dataframe tbody tr th {\n",
       "        vertical-align: top;\n",
       "    }\n",
       "\n",
       "    .dataframe thead th {\n",
       "        text-align: right;\n",
       "    }\n",
       "</style>\n",
       "<table border=\"1\" class=\"dataframe\">\n",
       "  <thead>\n",
       "    <tr style=\"text-align: right;\">\n",
       "      <th></th>\n",
       "      <th>Tweet</th>\n",
       "      <th>PredictedSentiment</th>\n",
       "    </tr>\n",
       "  </thead>\n",
       "  <tbody>\n",
       "    <tr>\n",
       "      <th>0</th>\n",
       "      <td>suriye türkiye sosyal demogratifyapısınıbozmuş...</td>\n",
       "      <td>Negative</td>\n",
       "    </tr>\n",
       "    <tr>\n",
       "      <th>1</th>\n",
       "      <td>devlet suriye güven bölge aşama ilerlemek yapm...</td>\n",
       "      <td>Neutral</td>\n",
       "    </tr>\n",
       "    <tr>\n",
       "      <th>2</th>\n",
       "      <td>sadece suriye değil afgan pakistan gitmek tali...</td>\n",
       "      <td>Negative</td>\n",
       "    </tr>\n",
       "    <tr>\n",
       "      <th>3</th>\n",
       "      <td>adana mülteci kamp yemek beğenmek suriye olay ...</td>\n",
       "      <td>Neutral</td>\n",
       "    </tr>\n",
       "    <tr>\n",
       "      <th>4</th>\n",
       "      <td>gün biri hülya han yahut bir yakın suriye afga...</td>\n",
       "      <td>Neutral</td>\n",
       "    </tr>\n",
       "    <tr>\n",
       "      <th>...</th>\n",
       "      <td>...</td>\n",
       "      <td>...</td>\n",
       "    </tr>\n",
       "    <tr>\n",
       "      <th>35880</th>\n",
       "      <td>faşizm akp yarmak li çete soymak akp saray yol...</td>\n",
       "      <td>Negative</td>\n",
       "    </tr>\n",
       "    <tr>\n",
       "      <th>35881</th>\n",
       "      <td>e devlet te isim köyişi değişik gelmek suriye ...</td>\n",
       "      <td>Negative</td>\n",
       "    </tr>\n",
       "    <tr>\n",
       "      <th>35882</th>\n",
       "      <td>suriye dönmek demek</td>\n",
       "      <td>Neutral</td>\n",
       "    </tr>\n",
       "    <tr>\n",
       "      <th>35883</th>\n",
       "      <td>suriye</td>\n",
       "      <td>Neutral</td>\n",
       "    </tr>\n",
       "    <tr>\n",
       "      <th>35884</th>\n",
       "      <td>suriye demek öso taciz getirildi zaten</td>\n",
       "      <td>Negative</td>\n",
       "    </tr>\n",
       "  </tbody>\n",
       "</table>\n",
       "<p>35885 rows × 2 columns</p>\n",
       "</div>"
      ],
      "text/plain": [
       "                                                   Tweet PredictedSentiment\n",
       "0      suriye türkiye sosyal demogratifyapısınıbozmuş...           Negative\n",
       "1      devlet suriye güven bölge aşama ilerlemek yapm...            Neutral\n",
       "2      sadece suriye değil afgan pakistan gitmek tali...           Negative\n",
       "3      adana mülteci kamp yemek beğenmek suriye olay ...            Neutral\n",
       "4      gün biri hülya han yahut bir yakın suriye afga...            Neutral\n",
       "...                                                  ...                ...\n",
       "35880  faşizm akp yarmak li çete soymak akp saray yol...           Negative\n",
       "35881  e devlet te isim köyişi değişik gelmek suriye ...           Negative\n",
       "35882                                suriye dönmek demek            Neutral\n",
       "35883                                             suriye            Neutral\n",
       "35884             suriye demek öso taciz getirildi zaten           Negative\n",
       "\n",
       "[35885 rows x 2 columns]"
      ]
     },
     "execution_count": 36,
     "metadata": {},
     "output_type": "execute_result"
    }
   ],
   "source": [
    "df2"
   ]
  },
  {
   "cell_type": "code",
   "execution_count": 37,
   "id": "68ad445e",
   "metadata": {},
   "outputs": [],
   "source": [
    "df2.to_csv('predictedsentiment_syrians_logistic.csv')"
   ]
  },
  {
   "cell_type": "code",
   "execution_count": 17,
   "id": "1ba070e5",
   "metadata": {},
   "outputs": [],
   "source": [
    "all_tweets_afghans=pd.read_excel('afghansfinaldataset.xlsx')"
   ]
  },
  {
   "cell_type": "code",
   "execution_count": 18,
   "id": "3fed76b5",
   "metadata": {},
   "outputs": [
    {
     "data": {
      "text/html": [
       "<div>\n",
       "<style scoped>\n",
       "    .dataframe tbody tr th:only-of-type {\n",
       "        vertical-align: middle;\n",
       "    }\n",
       "\n",
       "    .dataframe tbody tr th {\n",
       "        vertical-align: top;\n",
       "    }\n",
       "\n",
       "    .dataframe thead th {\n",
       "        text-align: right;\n",
       "    }\n",
       "</style>\n",
       "<table border=\"1\" class=\"dataframe\">\n",
       "  <thead>\n",
       "    <tr style=\"text-align: right;\">\n",
       "      <th></th>\n",
       "      <th>date</th>\n",
       "      <th>Tweet</th>\n",
       "      <th>id</th>\n",
       "    </tr>\n",
       "  </thead>\n",
       "  <tbody>\n",
       "    <tr>\n",
       "      <th>0</th>\n",
       "      <td>2021-08-23 14:37:01+00:00</td>\n",
       "      <td>@Akparti @omerrcelik Sn celik birgun cik su ku...</td>\n",
       "      <td>1.429815e+18</td>\n",
       "    </tr>\n",
       "    <tr>\n",
       "      <th>1</th>\n",
       "      <td>2021-12-22 04:17:12+00:00</td>\n",
       "      <td>@siyamusta61SLx Suriyede esed giderse Suriyeli...</td>\n",
       "      <td>1.473508e+18</td>\n",
       "    </tr>\n",
       "    <tr>\n",
       "      <th>2</th>\n",
       "      <td>2021-11-02 20:22:26+00:00</td>\n",
       "      <td>@AjansMuhbir Suriyeli ve Afganlar ne zamandan ...</td>\n",
       "      <td>1.455631e+18</td>\n",
       "    </tr>\n",
       "    <tr>\n",
       "      <th>3</th>\n",
       "      <td>2021-08-20 18:51:22+00:00</td>\n",
       "      <td>Afganlar lunaparkı yakmışlar,aqp lilerde orman...</td>\n",
       "      <td>1.428792e+18</td>\n",
       "    </tr>\n",
       "    <tr>\n",
       "      <th>4</th>\n",
       "      <td>2021-08-16 22:23:20+00:00</td>\n",
       "      <td>\"Galatasaray Türkiye'dir\" derken doğru söylüyo...</td>\n",
       "      <td>1.427396e+18</td>\n",
       "    </tr>\n",
       "    <tr>\n",
       "      <th>...</th>\n",
       "      <td>...</td>\n",
       "      <td>...</td>\n",
       "      <td>...</td>\n",
       "    </tr>\n",
       "    <tr>\n",
       "      <th>30547</th>\n",
       "      <td>2021-08-17 22:48:00+00:00</td>\n",
       "      <td>@Emmoglu_35 Türkiyeden Avrupa'ya geçme hayali ...</td>\n",
       "      <td>1.427764e+18</td>\n",
       "    </tr>\n",
       "    <tr>\n",
       "      <th>30548</th>\n",
       "      <td>2021-08-17 11:43:03+00:00</td>\n",
       "      <td>@zeybikhere Afganlar gibi gizlice çekip tiktok...</td>\n",
       "      <td>1.427597e+18</td>\n",
       "    </tr>\n",
       "    <tr>\n",
       "      <th>30549</th>\n",
       "      <td>2022-01-10 07:18:40+00:00</td>\n",
       "      <td>Avrupa halklarının huzuru ve güvenliği için ba...</td>\n",
       "      <td>1.480439e+18</td>\n",
       "    </tr>\n",
       "    <tr>\n",
       "      <th>30550</th>\n",
       "      <td>2021-08-25 06:08:14+00:00</td>\n",
       "      <td>@herkesicinCHP ÖZÜRE RAĞMEN YALANDA 'KARAR'LIL...</td>\n",
       "      <td>1.430412e+18</td>\n",
       "    </tr>\n",
       "    <tr>\n",
       "      <th>30551</th>\n",
       "      <td>2021-08-29 19:09:01+00:00</td>\n",
       "      <td>@dw_turkce @CICOMOCANCA Kaşımaktan bıkmadımız ...</td>\n",
       "      <td>1.432058e+18</td>\n",
       "    </tr>\n",
       "  </tbody>\n",
       "</table>\n",
       "<p>30552 rows × 3 columns</p>\n",
       "</div>"
      ],
      "text/plain": [
       "                            date  \\\n",
       "0      2021-08-23 14:37:01+00:00   \n",
       "1      2021-12-22 04:17:12+00:00   \n",
       "2      2021-11-02 20:22:26+00:00   \n",
       "3      2021-08-20 18:51:22+00:00   \n",
       "4      2021-08-16 22:23:20+00:00   \n",
       "...                          ...   \n",
       "30547  2021-08-17 22:48:00+00:00   \n",
       "30548  2021-08-17 11:43:03+00:00   \n",
       "30549  2022-01-10 07:18:40+00:00   \n",
       "30550  2021-08-25 06:08:14+00:00   \n",
       "30551  2021-08-29 19:09:01+00:00   \n",
       "\n",
       "                                                   Tweet            id  \n",
       "0      @Akparti @omerrcelik Sn celik birgun cik su ku...  1.429815e+18  \n",
       "1      @siyamusta61SLx Suriyede esed giderse Suriyeli...  1.473508e+18  \n",
       "2      @AjansMuhbir Suriyeli ve Afganlar ne zamandan ...  1.455631e+18  \n",
       "3      Afganlar lunaparkı yakmışlar,aqp lilerde orman...  1.428792e+18  \n",
       "4      \"Galatasaray Türkiye'dir\" derken doğru söylüyo...  1.427396e+18  \n",
       "...                                                  ...           ...  \n",
       "30547  @Emmoglu_35 Türkiyeden Avrupa'ya geçme hayali ...  1.427764e+18  \n",
       "30548  @zeybikhere Afganlar gibi gizlice çekip tiktok...  1.427597e+18  \n",
       "30549  Avrupa halklarının huzuru ve güvenliği için ba...  1.480439e+18  \n",
       "30550  @herkesicinCHP ÖZÜRE RAĞMEN YALANDA 'KARAR'LIL...  1.430412e+18  \n",
       "30551  @dw_turkce @CICOMOCANCA Kaşımaktan bıkmadımız ...  1.432058e+18  \n",
       "\n",
       "[30552 rows x 3 columns]"
      ]
     },
     "execution_count": 18,
     "metadata": {},
     "output_type": "execute_result"
    }
   ],
   "source": [
    "all_tweets_afghans"
   ]
  },
  {
   "cell_type": "code",
   "execution_count": 19,
   "id": "36b0e249",
   "metadata": {},
   "outputs": [],
   "source": [
    "df5 = pd.concat([all_tweets_afghans.reset_index(drop=True), pd.Series(ypred, name=\"PredictedSentiment\")], axis=1)"
   ]
  },
  {
   "cell_type": "code",
   "execution_count": 41,
   "id": "09f2323b",
   "metadata": {},
   "outputs": [
    {
     "data": {
      "text/plain": [
       "Neutral     23491\n",
       "Negative    11964\n",
       "Positive      430\n",
       "Name: PredictedSentiment, dtype: int64"
      ]
     },
     "execution_count": 41,
     "metadata": {},
     "output_type": "execute_result"
    }
   ],
   "source": [
    "df2['PredictedSentiment'].value_counts()"
   ]
  },
  {
   "cell_type": "code",
   "execution_count": 21,
   "id": "01142a29",
   "metadata": {},
   "outputs": [],
   "source": [
    "df5.to_csv('afghanswithpredictedsentimentlogistic.csv')"
   ]
  },
  {
   "cell_type": "code",
   "execution_count": 22,
   "id": "da8484c2",
   "metadata": {},
   "outputs": [],
   "source": [
    "df5.to_excel('afghanswithpredictedsentimentlogistic.xlsx')"
   ]
  },
  {
   "cell_type": "code",
   "execution_count": 40,
   "id": "0035dd78",
   "metadata": {},
   "outputs": [
    {
     "data": {
      "image/png": "[encoded data removed]",
      "text/plain": [
       "<Figure size 432x288 with 1 Axes>"
      ]
     },
     "metadata": {},
     "output_type": "display_data"
    }
   ],
   "source": [
    "plt.pie(df2['PredictedSentiment'].value_counts(),labels=['Neutral','Negative','Positive'],autopct='%1.1f%%')\n",
    "plt.show()"
   ]
  },
  {
   "cell_type": "code",
   "execution_count": 39,
   "id": "182d0aad",
   "metadata": {},
   "outputs": [],
   "source": [
    "import pandas as pd\n",
    "import numpy as np\n",
    "import sys\n",
    "import matplotlib.pyplot as plt"
   ]
  },
  {
   "cell_type": "code",
   "execution_count": null,
   "id": "5c07c12d",
   "metadata": {},
   "outputs": [],
   "source": []
  }
 ],
 "metadata": {
  "kernelspec": {
   "display_name": "Python 3 (ipykernel)",
   "language": "python",
   "name": "python3"
  },
  "language_info": {
   "codemirror_mode": {
    "name": "ipython",
    "version": 3
   },
   "file_extension": ".py",
   "mimetype": "text/x-python",
   "name": "python",
   "nbconvert_exporter": "python",
   "pygments_lexer": "ipython3",
   "version": "3.9.12"
  }
 },
 "nbformat": 4,
 "nbformat_minor": 5
}
